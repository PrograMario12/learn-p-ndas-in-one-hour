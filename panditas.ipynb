{
 "cells": [
  {
   "cell_type": "markdown",
   "metadata": {},
   "source": [
    "# Roadmap pandas in one hour\n",
    "\n",
    "- First install pandas"
   ]
  },
  {
   "cell_type": "code",
   "execution_count": 2,
   "metadata": {},
   "outputs": [],
   "source": [
    "import pandas as pd"
   ]
  },
  {
   "cell_type": "markdown",
   "metadata": {},
   "source": [
    "## Data structures of pandas"
   ]
  },
  {
   "cell_type": "code",
   "execution_count": 5,
   "metadata": {},
   "outputs": [
    {
     "name": "stdout",
     "output_type": "stream",
     "text": [
      "0    1\n",
      "1    3\n",
      "2    5\n",
      "3    7\n",
      "4    9\n",
      "dtype: int64\n"
     ]
    }
   ],
   "source": [
    "# Series\n",
    "''' Series is a one-dimensional labeled array capable of holding data\n",
    "of any type (integer, string, float, python objects, etc.). The axis\n",
    "labels are collectively called index.'''\n",
    "s = pd.Series([1, 3, 5, 7, 9])\n",
    "print(s)"
   ]
  },
  {
   "cell_type": "code",
   "execution_count": 8,
   "metadata": {},
   "outputs": [
    {
     "name": "stdout",
     "output_type": "stream",
     "text": [
      "     Name  Age\n",
      "0     Tom   20\n",
      "1   Jerry   21\n",
      "2  Mickey   22\n",
      "3  Donald   23\n",
      "4   Goofy   24\n",
      "5  Minnie   25\n",
      "6   Daisy   26\n",
      "7   Pluto   27\n"
     ]
    }
   ],
   "source": [
    "# DataFrame\n",
    "''' DataFrame is a 2-dimensional labeled data structure with columns\n",
    "of potentially different types. You can think of it like a spreadsheet\n",
    "or SQL table, or a dict of Series objects.'''\n",
    "data = {'Name': ['Tom', 'Jerry', 'Mickey', 'Donald', 'Goofy', 'Minnie', 'Daisy', 'Pluto'],\n",
    "        'Age': [20, 21, 22, 23, 24, 25, 26, 27]}\n",
    "df = pd.DataFrame(data)\n",
    "print(df)"
   ]
  },
  {
   "cell_type": "markdown",
   "metadata": {},
   "source": [
    "## Read data"
   ]
  },
  {
   "cell_type": "code",
   "execution_count": 9,
   "metadata": {},
   "outputs": [
    {
     "name": "stdout",
     "output_type": "stream",
     "text": [
      "         Date                         Company Ticker Symbol Currency  \\\n",
      "0  2000-01-01  Sony Interactive Entertainment          SONY      JPY   \n",
      "1  2000-02-01  Sony Interactive Entertainment          SONY      JPY   \n",
      "2  2000-03-01  Sony Interactive Entertainment          SONY      JPY   \n",
      "3  2000-04-01  Sony Interactive Entertainment          SONY      JPY   \n",
      "4  2000-05-01  Sony Interactive Entertainment          SONY      JPY   \n",
      "\n",
      "        Open       High        Low      Close  Adj Close     Volume  \n",
      "0  28.525000  29.168751  20.850000  25.299999  14.535083  147012000  \n",
      "1  25.293751  31.475000  25.000000  31.350000  18.010864   67437000  \n",
      "2  30.100000  31.299999  21.700001  28.012501  16.093437  112674000  \n",
      "3  28.250000  28.250000  22.312500  22.562500  12.974537   74071000  \n",
      "4  22.700001  23.481251  17.750000  18.237499  10.487453   65035500  \n"
     ]
    }
   ],
   "source": [
    "df = pd.read_csv('Top10VideoGameStocks.csv')\n",
    "print(df.head())"
   ]
  },
  {
   "cell_type": "code",
   "execution_count": 10,
   "metadata": {},
   "outputs": [],
   "source": [
    "df.to_csv('file_name.csv', index=False)"
   ]
  },
  {
   "cell_type": "markdown",
   "metadata": {},
   "source": [
    "## Explore data"
   ]
  },
  {
   "cell_type": "code",
   "execution_count": 12,
   "metadata": {},
   "outputs": [
    {
     "name": "stdout",
     "output_type": "stream",
     "text": [
      "         Date                         Company Ticker Symbol Currency  \\\n",
      "0  2000-01-01  Sony Interactive Entertainment          SONY      JPY   \n",
      "1  2000-02-01  Sony Interactive Entertainment          SONY      JPY   \n",
      "2  2000-03-01  Sony Interactive Entertainment          SONY      JPY   \n",
      "3  2000-04-01  Sony Interactive Entertainment          SONY      JPY   \n",
      "4  2000-05-01  Sony Interactive Entertainment          SONY      JPY   \n",
      "\n",
      "        Open       High        Low      Close  Adj Close     Volume  \n",
      "0  28.525000  29.168751  20.850000  25.299999  14.535083  147012000  \n",
      "1  25.293751  31.475000  25.000000  31.350000  18.010864   67437000  \n",
      "2  30.100000  31.299999  21.700001  28.012501  16.093437  112674000  \n",
      "3  28.250000  28.250000  22.312500  22.562500  12.974537   74071000  \n",
      "4  22.700001  23.481251  17.750000  18.237499  10.487453   65035500  \n"
     ]
    }
   ],
   "source": [
    "# Inspect the data\n",
    "print(df.head()) # print first 5 rows"
   ]
  },
  {
   "cell_type": "code",
   "execution_count": 13,
   "metadata": {},
   "outputs": [
    {
     "name": "stdout",
     "output_type": "stream",
     "text": [
      "            Date   Company Ticker Symbol Currency  Open   High   Low  Close  \\\n",
      "2204  2024-06-01  Playtika          PLTK      USD  8.76  9.070  7.68   7.87   \n",
      "2205  2024-07-01  Playtika          PLTK      USD  7.86  8.100  7.23   7.63   \n",
      "2206  2024-08-01  Playtika          PLTK      USD  7.67  8.055  6.61   7.57   \n",
      "2207  2024-09-01  Playtika          PLTK      USD  7.49  8.355  7.15   7.92   \n",
      "2208  2024-10-01  Playtika          PLTK      USD  7.93  8.060  7.32   7.83   \n",
      "\n",
      "      Adj Close    Volume  \n",
      "2204   7.677933  19793700  \n",
      "2205   7.536838  15108300  \n",
      "2206   7.477571  18138900  \n",
      "2207   7.823297  18116900  \n",
      "2208   7.830000  11134800  \n"
     ]
    }
   ],
   "source": [
    "print(df.tail()) # print last 5 rows\n"
   ]
  },
  {
   "cell_type": "code",
   "execution_count": null,
   "metadata": {},
   "outputs": [
    {
     "name": "stdout",
     "output_type": "stream",
     "text": [
      "(2209, 10)\n"
     ]
    }
   ],
   "source": [
    "print(df.shape) # print number of rows and columns"
   ]
  },
  {
   "cell_type": "code",
   "execution_count": null,
   "metadata": {},
   "outputs": [
    {
     "name": "stdout",
     "output_type": "stream",
     "text": [
      "Index(['Date', 'Company', 'Ticker Symbol', 'Currency', 'Open', 'High', 'Low',\n",
      "       'Close', 'Adj Close', 'Volume'],\n",
      "      dtype='object')\n"
     ]
    }
   ],
   "source": [
    "print(df.columns) # print column names"
   ]
  },
  {
   "cell_type": "code",
   "execution_count": 16,
   "metadata": {},
   "outputs": [
    {
     "name": "stdout",
     "output_type": "stream",
     "text": [
      "Date              object\n",
      "Company           object\n",
      "Ticker Symbol     object\n",
      "Currency          object\n",
      "Open             float64\n",
      "High             float64\n",
      "Low              float64\n",
      "Close            float64\n",
      "Adj Close        float64\n",
      "Volume             int64\n",
      "dtype: object\n"
     ]
    }
   ],
   "source": [
    "print(df.dtypes) # print data types of each column"
   ]
  },
  {
   "cell_type": "code",
   "execution_count": 17,
   "metadata": {},
   "outputs": [
    {
     "name": "stdout",
     "output_type": "stream",
     "text": [
      "<class 'pandas.core.frame.DataFrame'>\n",
      "RangeIndex: 2209 entries, 0 to 2208\n",
      "Data columns (total 10 columns):\n",
      " #   Column         Non-Null Count  Dtype  \n",
      "---  ------         --------------  -----  \n",
      " 0   Date           2209 non-null   object \n",
      " 1   Company        2209 non-null   object \n",
      " 2   Ticker Symbol  2209 non-null   object \n",
      " 3   Currency       2209 non-null   object \n",
      " 4   Open           2209 non-null   float64\n",
      " 5   High           2209 non-null   float64\n",
      " 6   Low            2209 non-null   float64\n",
      " 7   Close          2209 non-null   float64\n",
      " 8   Adj Close      2209 non-null   float64\n",
      " 9   Volume         2209 non-null   int64  \n",
      "dtypes: float64(5), int64(1), object(4)\n",
      "memory usage: 172.7+ KB\n",
      "None\n"
     ]
    }
   ],
   "source": [
    "print(df.info()) # print concise summary of the DataFrame"
   ]
  },
  {
   "cell_type": "code",
   "execution_count": 18,
   "metadata": {},
   "outputs": [
    {
     "name": "stdout",
     "output_type": "stream",
     "text": [
      "              Open         High          Low        Close    Adj Close  \\\n",
      "count  2209.000000  2209.000000  2209.000000  2209.000000  2209.000000   \n",
      "mean     56.082332    60.403246    52.123886    56.452762    54.255817   \n",
      "std      88.552277    95.086684    82.698684    88.816897    87.529546   \n",
      "min       0.032000     0.032000     0.025500     0.032000     0.025868   \n",
      "25%       8.374000     9.225000     7.520000     8.380000     7.123526   \n",
      "50%      22.362000    24.500000    20.070000    22.379999    18.641869   \n",
      "75%      57.276001    61.731998    53.959999    57.459999    55.368843   \n",
      "max     643.455811   714.899658   610.729919   628.245178   613.602234   \n",
      "\n",
      "             Volume  \n",
      "count  2.209000e+03  \n",
      "mean   2.677228e+08  \n",
      "std    4.027909e+08  \n",
      "min    0.000000e+00  \n",
      "25%    3.879940e+07  \n",
      "50%    8.711250e+07  \n",
      "75%    3.528646e+08  \n",
      "max    3.044579e+09  \n"
     ]
    }
   ],
   "source": [
    "print(df.describe()) # print summary statistics of the DataFrame"
   ]
  },
  {
   "cell_type": "code",
   "execution_count": 21,
   "metadata": {},
   "outputs": [
    {
     "name": "stdout",
     "output_type": "stream",
     "text": [
      "0       Sony Interactive Entertainment\n",
      "1       Sony Interactive Entertainment\n",
      "2       Sony Interactive Entertainment\n",
      "3       Sony Interactive Entertainment\n",
      "4       Sony Interactive Entertainment\n",
      "                     ...              \n",
      "2204                          Playtika\n",
      "2205                          Playtika\n",
      "2206                          Playtika\n",
      "2207                          Playtika\n",
      "2208                          Playtika\n",
      "Name: Company, Length: 2209, dtype: object\n",
      "                             Company Ticker Symbol\n",
      "0     Sony Interactive Entertainment          SONY\n",
      "1     Sony Interactive Entertainment          SONY\n",
      "2     Sony Interactive Entertainment          SONY\n",
      "3     Sony Interactive Entertainment          SONY\n",
      "4     Sony Interactive Entertainment          SONY\n",
      "...                              ...           ...\n",
      "2204                        Playtika          PLTK\n",
      "2205                        Playtika          PLTK\n",
      "2206                        Playtika          PLTK\n",
      "2207                        Playtika          PLTK\n",
      "2208                        Playtika          PLTK\n",
      "\n",
      "[2209 rows x 2 columns]\n"
     ]
    }
   ],
   "source": [
    "#Selecting data\n",
    "print(df['Company']) # select one column\n",
    "print(df[['Company', 'Ticker Symbol']]) # select multiple columns"
   ]
  },
  {
   "cell_type": "code",
   "execution_count": 22,
   "metadata": {},
   "outputs": [
    {
     "name": "stdout",
     "output_type": "stream",
     "text": [
      "Date                                 2000-01-01\n",
      "Company          Sony Interactive Entertainment\n",
      "Ticker Symbol                              SONY\n",
      "Currency                                    JPY\n",
      "Open                                     28.525\n",
      "High                                  29.168751\n",
      "Low                                       20.85\n",
      "Close                                 25.299999\n",
      "Adj Close                             14.535083\n",
      "Volume                                147012000\n",
      "Name: 0, dtype: object\n"
     ]
    }
   ],
   "source": [
    "print(df.iloc[0]) # select one row"
   ]
  },
  {
   "cell_type": "code",
   "execution_count": 23,
   "metadata": {},
   "outputs": [
    {
     "name": "stdout",
     "output_type": "stream",
     "text": [
      "Date                                 2000-01-01\n",
      "Company          Sony Interactive Entertainment\n",
      "Ticker Symbol                              SONY\n",
      "Currency                                    JPY\n",
      "Open                                     28.525\n",
      "High                                  29.168751\n",
      "Low                                       20.85\n",
      "Close                                 25.299999\n",
      "Adj Close                             14.535083\n",
      "Volume                                147012000\n",
      "Name: 0, dtype: object\n"
     ]
    }
   ],
   "source": [
    "print(df.loc[0]) # select one row"
   ]
  },
  {
   "cell_type": "markdown",
   "metadata": {},
   "source": [
    "## Data manipulation"
   ]
  },
  {
   "cell_type": "code",
   "execution_count": 26,
   "metadata": {},
   "outputs": [
    {
     "name": "stdout",
     "output_type": "stream",
     "text": [
      "            Date                            Company Ticker Symbol Currency  \\\n",
      "413   2014-02-01  Tencent Interactive Entertainment       0700.HK      HKD   \n",
      "414   2014-03-01  Tencent Interactive Entertainment       0700.HK      HKD   \n",
      "415   2014-04-01  Tencent Interactive Entertainment       0700.HK      HKD   \n",
      "417   2014-06-01  Tencent Interactive Entertainment       0700.HK      HKD   \n",
      "418   2014-07-01  Tencent Interactive Entertainment       0700.HK      HKD   \n",
      "...          ...                                ...           ...      ...   \n",
      "2080  2021-06-01                     Embracer Group   EMBRAC-B.ST      SEK   \n",
      "2081  2021-07-01                     Embracer Group   EMBRAC-B.ST      SEK   \n",
      "2082  2021-08-01                     Embracer Group   EMBRAC-B.ST      SEK   \n",
      "2129  2021-12-01                 Roblox Corporation          RBLX      USD   \n",
      "2130  2022-01-01                 Roblox Corporation          RBLX      USD   \n",
      "\n",
      "            Open        High         Low       Close   Adj Close     Volume  \n",
      "413   100.205795  116.338280   92.185646  114.771126  109.997101  642650480  \n",
      "414   111.913368  119.103851   94.582474   99.468307   95.330826  868029900  \n",
      "415   100.297981  106.290047   88.977585   89.088203   85.382484  731093628  \n",
      "417   100.758911  110.161842   99.283936  108.963432  104.681480  388099116  \n",
      "418   108.963432  120.671005  108.963432  118.366371  113.714897  440301499  \n",
      "...          ...         ...         ...         ...         ...        ...  \n",
      "2080  123.650002  125.949997  110.000000  115.750000  115.750000   50054974  \n",
      "2081  115.750000  116.699997  108.750000  111.349998  111.349998   40426734  \n",
      "2082  111.349998  112.699997   88.525002   97.900002   97.900002  155566384  \n",
      "2129  128.139999  130.740005   93.269997  103.160004  103.160004  362736900  \n",
      "2130  101.910004  103.790001   53.630001   65.860001   65.860001  440325000  \n",
      "\n",
      "[385 rows x 10 columns]\n"
     ]
    }
   ],
   "source": [
    "oven_100 = df[df['Open'] > 100] # select rows based on condition\n",
    "print(oven_100)"
   ]
  },
  {
   "cell_type": "code",
   "execution_count": 27,
   "metadata": {},
   "outputs": [
    {
     "name": "stdout",
     "output_type": "stream",
     "text": [
      "         Date                         Company Ticker Symbol Currency  \\\n",
      "0  2000-01-01  Sony Interactive Entertainment          SONY      JPY   \n",
      "1  2000-02-01  Sony Interactive Entertainment          SONY      JPY   \n",
      "2  2000-03-01  Sony Interactive Entertainment          SONY      JPY   \n",
      "3  2000-04-01  Sony Interactive Entertainment          SONY      JPY   \n",
      "4  2000-05-01  Sony Interactive Entertainment          SONY      JPY   \n",
      "\n",
      "        Open       High        Low      Close  Adj Close     Volume  \\\n",
      "0  28.525000  29.168751  20.850000  25.299999  14.535083  147012000   \n",
      "1  25.293751  31.475000  25.000000  31.350000  18.010864   67437000   \n",
      "2  30.100000  31.299999  21.700001  28.012501  16.093437  112674000   \n",
      "3  28.250000  28.250000  22.312500  22.562500  12.974537   74071000   \n",
      "4  22.700001  23.481251  17.750000  18.237499  10.487453   65035500   \n",
      "\n",
      "   OpenCloseDiff  \n",
      "0      -3.225000  \n",
      "1       6.056250  \n",
      "2      -2.087500  \n",
      "3      -5.687500  \n",
      "4      -4.462502  \n"
     ]
    }
   ],
   "source": [
    "# Add a new column\n",
    "df['OpenCloseDiff'] = df['Close'] - df['Open']\n",
    "print(df.head())"
   ]
  },
  {
   "cell_type": "code",
   "execution_count": 28,
   "metadata": {},
   "outputs": [
    {
     "name": "stdout",
     "output_type": "stream",
     "text": [
      "         Date                         Company Ticker Symbol Currency  \\\n",
      "0  2000-01-01  Sony Interactive Entertainment          SONY      JPY   \n",
      "1  2000-02-01  Sony Interactive Entertainment          SONY      JPY   \n",
      "2  2000-03-01  Sony Interactive Entertainment          SONY      JPY   \n",
      "3  2000-04-01  Sony Interactive Entertainment          SONY      JPY   \n",
      "4  2000-05-01  Sony Interactive Entertainment          SONY      JPY   \n",
      "\n",
      "        Open       High        Low      Close  Adj Close     Volume  \n",
      "0  28.525000  29.168751  20.850000  25.299999  14.535083  147012000  \n",
      "1  25.293751  31.475000  25.000000  31.350000  18.010864   67437000  \n",
      "2  30.100000  31.299999  21.700001  28.012501  16.093437  112674000  \n",
      "3  28.250000  28.250000  22.312500  22.562500  12.974537   74071000  \n",
      "4  22.700001  23.481251  17.750000  18.237499  10.487453   65035500  \n"
     ]
    }
   ],
   "source": [
    "# Drop a column\n",
    "df = df.drop('OpenCloseDiff', axis=1)\n",
    "print(df.head())"
   ]
  },
  {
   "cell_type": "markdown",
   "metadata": {},
   "source": [
    "## Advanced operations"
   ]
  },
  {
   "cell_type": "code",
   "execution_count": 39,
   "metadata": {},
   "outputs": [
    {
     "name": "stdout",
     "output_type": "stream",
     "text": [
      "                                         Open        High         Low  \\\n",
      "Company                                                                 \n",
      "Electronic Arts                     63.376126   67.615559   59.397112   \n",
      "Embracer Group                      46.903330   52.060034   41.379687   \n",
      "Microsoft Gaming                    89.801136   95.247261   85.158955   \n",
      "NetEase Games                       30.894441   33.732690   28.199920   \n",
      "Nintendo                             6.665512    7.188882    6.154534   \n",
      "Playtika                            14.616889   15.830600   12.763533   \n",
      "Roblox Corporation                  50.152326   57.907349   42.308907   \n",
      "Sony Interactive Entertainment       9.836865   10.497607    9.122153   \n",
      "Take-Two Interactive                53.307638   57.467914   49.268344   \n",
      "Tencent Interactive Entertainment  168.624424  182.391790  156.846100   \n",
      "\n",
      "                                        Close   Adj Close        Volume  \n",
      "Company                                                                  \n",
      "Electronic Arts                     63.792135   62.623572  9.620280e+07  \n",
      "Embracer Group                      47.039273   47.039273  7.219238e+07  \n",
      "Microsoft Gaming                    90.833884   83.656873  1.052125e+09  \n",
      "NetEase Games                       31.033982   28.534637  1.690754e+08  \n",
      "Nintendo                             6.697284    6.667383  2.557595e+07  \n",
      "Playtika                            14.085111   13.575073  2.744396e+07  \n",
      "Roblox Corporation                  49.786745   49.786745  2.908458e+08  \n",
      "Sony Interactive Entertainment       9.786584    7.855062  1.227830e+08  \n",
      "Take-Two Interactive                53.798982   53.798616  3.960947e+07  \n",
      "Tencent Interactive Entertainment  169.573749  165.357776  5.049744e+08  \n"
     ]
    }
   ],
   "source": [
    "#Grouping data\n",
    "numeric_df = df.select_dtypes(include='number')\n",
    "\n",
    "grouped = df.groupby('Company')[numeric_df.columns].mean()\n",
    "print(grouped)"
   ]
  },
  {
   "cell_type": "code",
   "execution_count": 40,
   "metadata": {},
   "outputs": [
    {
     "name": "stdout",
     "output_type": "stream",
     "text": [
      "    A   B\n",
      "0  A0  B0\n",
      "1  A1  B1\n",
      "2  A2  B2\n",
      "0  A3  B3\n",
      "1  A4  B4\n",
      "2  A5  B5\n"
     ]
    }
   ],
   "source": [
    "# Joining data\n",
    "df1 = pd.DataFrame({'A': ['A0', 'A1', 'A2'], 'B': ['B0', 'B1', 'B2']})\n",
    "df2 = pd.DataFrame({'A': ['A3', 'A4', 'A5'], 'B': ['B3', 'B4', 'B5']})\n",
    "df_union = pd.concat([df1, df2])\n",
    "print(df_union)\n"
   ]
  }
 ],
 "metadata": {
  "kernelspec": {
   "display_name": "venv",
   "language": "python",
   "name": "python3"
  },
  "language_info": {
   "codemirror_mode": {
    "name": "ipython",
    "version": 3
   },
   "file_extension": ".py",
   "mimetype": "text/x-python",
   "name": "python",
   "nbconvert_exporter": "python",
   "pygments_lexer": "ipython3",
   "version": "3.12.3"
  }
 },
 "nbformat": 4,
 "nbformat_minor": 2
}
